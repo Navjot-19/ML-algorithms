{
 "cells": [
  {
   "cell_type": "code",
   "execution_count": 74,
   "id": "93c7db41-8434-441b-8049-23abd8064911",
   "metadata": {},
   "outputs": [],
   "source": [
    "import numpy as np\n",
    "import pandas as pd\n",
    "import matplotlib.patches as mpatches\n",
    "import matplotlib.pyplot as plt\n",
    "from sklearn.preprocessing import StandardScaler"
   ]
  },
  {
   "cell_type": "code",
   "execution_count": 4,
   "id": "d87b0079-1a74-454d-9caa-0ca5108663b7",
   "metadata": {},
   "outputs": [
    {
     "data": {
      "text/html": [
       "<div>\n",
       "<style scoped>\n",
       "    .dataframe tbody tr th:only-of-type {\n",
       "        vertical-align: middle;\n",
       "    }\n",
       "\n",
       "    .dataframe tbody tr th {\n",
       "        vertical-align: top;\n",
       "    }\n",
       "\n",
       "    .dataframe thead th {\n",
       "        text-align: right;\n",
       "    }\n",
       "</style>\n",
       "<table border=\"1\" class=\"dataframe\">\n",
       "  <thead>\n",
       "    <tr style=\"text-align: right;\">\n",
       "      <th></th>\n",
       "      <th>Hours_Studied</th>\n",
       "      <th>Marks_Obtained</th>\n",
       "    </tr>\n",
       "  </thead>\n",
       "  <tbody>\n",
       "    <tr>\n",
       "      <th>0</th>\n",
       "      <td>4.370861</td>\n",
       "      <td>62</td>\n",
       "    </tr>\n",
       "    <tr>\n",
       "      <th>1</th>\n",
       "      <td>9.556429</td>\n",
       "      <td>17</td>\n",
       "    </tr>\n",
       "    <tr>\n",
       "      <th>2</th>\n",
       "      <td>7.587945</td>\n",
       "      <td>89</td>\n",
       "    </tr>\n",
       "    <tr>\n",
       "      <th>3</th>\n",
       "      <td>6.387926</td>\n",
       "      <td>43</td>\n",
       "    </tr>\n",
       "    <tr>\n",
       "      <th>4</th>\n",
       "      <td>2.404168</td>\n",
       "      <td>33</td>\n",
       "    </tr>\n",
       "  </tbody>\n",
       "</table>\n",
       "</div>"
      ],
      "text/plain": [
       "   Hours_Studied  Marks_Obtained\n",
       "0       4.370861              62\n",
       "1       9.556429              17\n",
       "2       7.587945              89\n",
       "3       6.387926              43\n",
       "4       2.404168              33"
      ]
     },
     "execution_count": 4,
     "metadata": {},
     "output_type": "execute_result"
    }
   ],
   "source": [
    "# Set random seed for reproducibility\n",
    "np.random.seed(42)\n",
    "\n",
    "# Generate data\n",
    "num_points = 50\n",
    "hours_studied = np.random.uniform(1, 10, num_points)  # Average hours studied (1 to 10)\n",
    "marks_obtained = np.random.randint(0, 101, num_points)  # Marks obtained (0 to 100)\n",
    "\n",
    "# Create DataFrame\n",
    "data = pd.DataFrame({\n",
    "    'Hours_Studied': hours_studied,\n",
    "    'Marks_Obtained': marks_obtained\n",
    "})\n",
    "\n",
    "# Display the first 10 rows of the dataset\n",
    "data.head()"
   ]
  },
  {
   "cell_type": "code",
   "execution_count": 5,
   "id": "92c01cbb-45ea-4718-8021-7719f2a0d474",
   "metadata": {},
   "outputs": [
    {
     "data": {
      "image/png": "[encoded data removed]",
      "text/plain": [
       "<Figure size 700x500 with 1 Axes>"
      ]
     },
     "metadata": {},
     "output_type": "display_data"
    }
   ],
   "source": [
    "plt.figure(figsize=(7,5))\n",
    "plt.scatter(hours_studied,marks_obtained,s=10)\n",
    "plt.xlabel('No. of hrs student studies')\n",
    "plt.ylabel('Marks scored')\n",
    "plt.title('Student Performance')\n",
    "plt.show()"
   ]
  },
  {
   "cell_type": "code",
   "execution_count": 6,
   "id": "779ab700-8ff7-4ef3-9835-7f07ce6ea6c8",
   "metadata": {},
   "outputs": [
    {
     "data": {
      "text/html": [
       "<div>\n",
       "<style scoped>\n",
       "    .dataframe tbody tr th:only-of-type {\n",
       "        vertical-align: middle;\n",
       "    }\n",
       "\n",
       "    .dataframe tbody tr th {\n",
       "        vertical-align: top;\n",
       "    }\n",
       "\n",
       "    .dataframe thead th {\n",
       "        text-align: right;\n",
       "    }\n",
       "</style>\n",
       "<table border=\"1\" class=\"dataframe\">\n",
       "  <thead>\n",
       "    <tr style=\"text-align: right;\">\n",
       "      <th></th>\n",
       "      <th>Hours_Studied</th>\n",
       "      <th>Marks_Obtained</th>\n",
       "    </tr>\n",
       "  </thead>\n",
       "  <tbody>\n",
       "    <tr>\n",
       "      <th>0</th>\n",
       "      <td>-0.249611</td>\n",
       "      <td>0.418550</td>\n",
       "    </tr>\n",
       "    <tr>\n",
       "      <th>1</th>\n",
       "      <td>1.765126</td>\n",
       "      <td>-1.115223</td>\n",
       "    </tr>\n",
       "    <tr>\n",
       "      <th>2</th>\n",
       "      <td>1.000316</td>\n",
       "      <td>1.338813</td>\n",
       "    </tr>\n",
       "    <tr>\n",
       "      <th>3</th>\n",
       "      <td>0.534075</td>\n",
       "      <td>-0.229043</td>\n",
       "    </tr>\n",
       "    <tr>\n",
       "      <th>4</th>\n",
       "      <td>-1.013726</td>\n",
       "      <td>-0.569882</td>\n",
       "    </tr>\n",
       "  </tbody>\n",
       "</table>\n",
       "</div>"
      ],
      "text/plain": [
       "   Hours_Studied  Marks_Obtained\n",
       "0      -0.249611        0.418550\n",
       "1       1.765126       -1.115223\n",
       "2       1.000316        1.338813\n",
       "3       0.534075       -0.229043\n",
       "4      -1.013726       -0.569882"
      ]
     },
     "execution_count": 6,
     "metadata": {},
     "output_type": "execute_result"
    }
   ],
   "source": [
    "scaler=StandardScaler()\n",
    "features=scaler.fit_transform(data)\n",
    "\n",
    "#convert to panda dataframe\n",
    "scaled_data=pd.DataFrame(features,columns=data.columns)\n",
    "\n",
    "scaled_data.head()"
   ]
  },
  {
   "cell_type": "code",
   "execution_count": 7,
   "id": "5fae778d-93ac-4d06-b745-5e7982d049be",
   "metadata": {},
   "outputs": [],
   "source": [
    "X=scaled_data.values"
   ]
  },
  {
   "cell_type": "code",
   "execution_count": 26,
   "id": "40b94dad-641b-4d58-8ed1-3809747240c0",
   "metadata": {},
   "outputs": [],
   "source": [
    "def index_closest_centroid(X,centroids):\n",
    "    \"\"\"\n",
    "    Takes X data points and centroids:\n",
    "        For each data points X_i, find the closest centroid from all.\n",
    "            return index of corresponding centroid for each X_i\n",
    "    \"\"\"\n",
    "    \n",
    "    #number of centroids \n",
    "    K=centroids.shape[0]\n",
    "\n",
    "    # [0,0,..0]\n",
    "    idx = np.zeros(X.shape[0], dtype=int)\n",
    "    norm=np.zeros(K)\n",
    "\n",
    "    for i,x in enumerate(X):\n",
    "        for j in range(K):\n",
    "            norm[j]=np.dot((x-centroids[j]),(x-centroids[j]))\n",
    "        idx[i]=np.argmin(norm)\n",
    "\n",
    "    return idx\n",
    "    "
   ]
  },
  {
   "cell_type": "code",
   "execution_count": 43,
   "id": "7a13915e-9e0f-4b92-8507-18d05393c51c",
   "metadata": {},
   "outputs": [
    {
     "name": "stdout",
     "output_type": "stream",
     "text": [
      " elements in idx are: [1 2 2 1 0 0 0 2 1 2 0 2 2 0 3 0 0 1 1 3 1 0 0 1 1 1 0 1 1 0 2 0 0 2 1 1 3\n",
      " 0 1 1 0 1 0 2 0 1 0 0 1 0]\n"
     ]
    }
   ],
   "source": [
    "np.random.seed(41)\n",
    "random_indices = np.random.choice(X.shape[0], size=4, replace=False)\n",
    "initial_centroids = X[random_indices]\n",
    "\n",
    "idx = index_closest_centroid(X, initial_centroids)\n",
    "\n",
    "# Print closest centroids for the first three elements\n",
    "print(\" elements in idx are:\", idx)"
   ]
  },
  {
   "cell_type": "markdown",
   "id": "cb9ae291-af84-4feb-b9de-a0e4b61cca76",
   "metadata": {},
   "source": [
    " Now\n",
    " \n",
    " -For each cluster, each centroid is updated to new position which is mean of data points in that cluster."
   ]
  },
  {
   "cell_type": "code",
   "execution_count": null,
   "id": "14429ceb-2c66-4ee9-b9a4-e9ba2e4bb4f0",
   "metadata": {},
   "outputs": [],
   "source": []
  },
  {
   "cell_type": "code",
   "execution_count": 56,
   "id": "cebb9522-01e1-4b23-bb31-333ae477f952",
   "metadata": {},
   "outputs": [],
   "source": [
    "def compute_centroid_mean(X,idx,K):\n",
    "    \"\"\"\n",
    "    Computes new centroids for each cluster.\n",
    "\n",
    "    Initialize \n",
    "    centriods=[(0,0,... diminish of each data point...,0)\n",
    "                0,0,...\n",
    "                .\n",
    "                .\n",
    "                Number of clusters\n",
    "                .\n",
    "                .\n",
    "                0,0,..,0,0]\n",
    "\n",
    "    \"\"\"\n",
    "    m,n=X.shape\n",
    "    centroids = np.zeros((K, n))\n",
    "    \n",
    "    for k in range(K):\n",
    "        k_cluster=[]\n",
    "        for i in range(idx.shape[0]):\n",
    "            if idx[i]==k:\n",
    "                k_cluster.append(X[i])\n",
    "        centroids[k]=np.mean(k_cluster,axis=0)\n",
    "\n",
    "    return centroids   \n",
    "                \n",
    "    "
   ]
  },
  {
   "cell_type": "code",
   "execution_count": 80,
   "id": "709dd580-20dd-479a-8ee5-9f3c80b5f55b",
   "metadata": {},
   "outputs": [
    {
     "name": "stdout",
     "output_type": "stream",
     "text": [
      "The centroids are: [[-0.95398858 -0.84255243]\n",
      " [ 0.9279367  -0.86300273]\n",
      " [ 0.96125292  1.21951965]\n",
      " [-0.69469997  0.77856002]]\n"
     ]
    }
   ],
   "source": [
    "K = 4\n",
    "centroids = compute_centroid_mean(X, idx, K)\n",
    "\n",
    "print(\"The centroids are:\", centroids)"
   ]
  },
  {
   "cell_type": "code",
   "execution_count": 60,
   "id": "339e0d33-710f-4e77-9b5d-a524b2c56cad",
   "metadata": {},
   "outputs": [],
   "source": [
    "def run_kMeans(X, initial_centroids, max_iters=10, plot_progress=False):\n",
    "    \"\"\"\n",
    "    Runs the K-Means algorithm on data matrix X, where each row of X\n",
    "    is a single example\n",
    "    \"\"\"\n",
    "    \n",
    "    # Initialize values\n",
    "    m, n = X.shape\n",
    "    K = initial_centroids.shape[0]\n",
    "    centroids = initial_centroids\n",
    "    previous_centroids = centroids    \n",
    "    idx = np.zeros(m)\n",
    "    plt.figure(figsize=(8, 6))\n",
    "\n",
    "    # Run K-Means\n",
    "    for i in range(max_iters):\n",
    "        \n",
    "        #Output progress\n",
    "        print(\"K-Means iteration %d/%d\" % (i, max_iters-1))\n",
    "        \n",
    "        # For each example in X, assign it to the closest centroid\n",
    "        idx = index_closest_centroid(X, centroids)\n",
    "\n",
    "        \"\"\"\n",
    "        # Optionally plot progress\n",
    "        if plot_progress:\n",
    "            plot_progress_kMeans(X, centroids, previous_centroids, idx, K, i)\n",
    "            previous_centroids = centroids\n",
    "         \"\"\"\n",
    "        \n",
    "        # Given the memberships, compute new centroids\n",
    "        centroids = compute_centroid_mean(X, idx, K)\n",
    "    plt.show() \n",
    "    return centroids, idx"
   ]
  },
  {
   "cell_type": "code",
   "execution_count": 69,
   "id": "136eb4f0-55c6-4675-a519-01b7251a5785",
   "metadata": {},
   "outputs": [
    {
     "name": "stdout",
     "output_type": "stream",
     "text": [
      "K-Means iteration 0/9\n",
      "K-Means iteration 1/9\n",
      "K-Means iteration 2/9\n",
      "K-Means iteration 3/9\n",
      "K-Means iteration 4/9\n",
      "K-Means iteration 5/9\n",
      "K-Means iteration 6/9\n",
      "K-Means iteration 7/9\n",
      "K-Means iteration 8/9\n",
      "K-Means iteration 9/9\n"
     ]
    },
    {
     "data": {
      "text/plain": [
       "<Figure size 800x600 with 0 Axes>"
      ]
     },
     "metadata": {},
     "output_type": "display_data"
    },
    {
     "name": "stdout",
     "output_type": "stream",
     "text": [
      "[[-0.95398858 -0.84255243]\n",
      " [ 0.9279367  -0.86300273]\n",
      " [ 0.96125292  1.21951965]\n",
      " [-0.69469997  0.77856002]]\n",
      "[3 1 2 1 0 3 3 2 1 2 0 1 2 3 3 3 0 2 3 3 1 0 0 3 3 1 0 1 1 3 2 3 0 2 1 1 3\n",
      " 3 1 3 0 1 0 1 0 1 0 1 2 3]\n"
     ]
    }
   ],
   "source": [
    "# Number of iterations\n",
    "max_iters = 10\n",
    "\n",
    "# Run K-Means\n",
    "centroids, idx = run_kMeans(X, initial_centroids, max_iters, plot_progress=True)\n",
    "print(centroids)\n",
    "print(idx)"
   ]
  },
  {
   "cell_type": "code",
   "execution_count": 70,
   "id": "4af8b4d5-bc64-4c42-aab6-227f10d899e5",
   "metadata": {},
   "outputs": [],
   "source": [
    "original_centers = scaler.inverse_transform(centroids)"
   ]
  },
  {
   "cell_type": "code",
   "execution_count": 79,
   "id": "b69e4216-0258-44d6-833c-bf023780f417",
   "metadata": {},
   "outputs": [
    {
     "data": {
      "image/png": "[encoded data removed]",
      "text/plain": [
       "<Figure size 700x500 with 1 Axes>"
      ]
     },
     "metadata": {},
     "output_type": "display_data"
    }
   ],
   "source": [
    "plt.figure(figsize=(7, 5))\n",
    "scatter = plt.scatter(data.values[:, 0], data.values[:, 1], c=idx, cmap='jet')\n",
    "plt.scatter(original_centers[:, 0], original_centers[:, 1], c='red', marker='x', s=100)\n",
    "\n",
    "\n",
    "\n",
    "# Creating custom legend with matching colors\n",
    "cluster_label = ['Lazy', 'Struggling', 'Genius', 'Hardworking']\n",
    "unique_labels = sorted(set(idx))\n",
    "patches = [mpatches.Patch(color=scatter.cmap(scatter.norm(i)), label=cluster_label[i]) \n",
    "           for i in unique_labels]\n",
    "plt.legend(handles=patches)\n",
    "\n",
    "plt.xlabel('scaled hrs')\n",
    "plt.ylabel('scaled_marks')\n",
    "plt.title('Scaled performance cluster')\n",
    "plt.show()\n"
   ]
  },
  {
   "cell_type": "code",
   "execution_count": null,
   "id": "b6909fe8-69d2-4352-92d9-d88cd44cb03e",
   "metadata": {},
   "outputs": [],
   "source": []
  }
 ],
 "metadata": {
  "kernelspec": {
   "display_name": "Python 3 (ipykernel)",
   "language": "python",
   "name": "python3"
  },
  "language_info": {
   "codemirror_mode": {
    "name": "ipython",
    "version": 3
   },
   "file_extension": ".py",
   "mimetype": "text/x-python",
   "name": "python",
   "nbconvert_exporter": "python",
   "pygments_lexer": "ipython3",
   "version": "3.12.2"
  }
 },
 "nbformat": 4,
 "nbformat_minor": 5
}
