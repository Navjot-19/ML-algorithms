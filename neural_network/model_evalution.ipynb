{
 "cells": [
  {
   "cell_type": "code",
   "execution_count": 108,
   "id": "162c3b76-5955-4d98-92fc-6e1294959640",
   "metadata": {},
   "outputs": [],
   "source": [
    "import numpy as np\n",
    "import matplotlib.pyplot as plt\n",
    "\n",
    "#for building linear regression\n",
    "from sklearn.linear_model import LinearRegression\n",
    "from sklearn.preprocessing import StandardScaler, PolynomialFeatures\n",
    "from sklearn.model_selection import train_test_split\n",
    "\n",
    "#check model J_cv\n",
    "from sklearn.metrics import mean_squared_error\n",
    "\n",
    "#data\n",
    "from sklearn.datasets import make_regression\n",
    "#for building and training neural network\n",
    "\n",
    "import tensorflow as tf\n",
    "\n",
    "#reduce display precision on numpy arrays\n",
    "np.set_printoptions(precision=2)\n",
    "\n",
    "#suppress warning\n",
    "tf.get_logger().setLevel('ERROR')\n",
    "tf.autograph.set_verbosity(0)"
   ]
  },
  {
   "cell_type": "markdown",
   "id": "0fdb77fc-f453-4da7-8cff-1c5b19aaec4f",
   "metadata": {},
   "source": [
    "REGRESSION DATA\n",
    "-"
   ]
  },
  {
   "cell_type": "code",
   "execution_count": 109,
   "id": "2e8302e7-3f01-4557-a2f2-60da1ee9666d",
   "metadata": {},
   "outputs": [
    {
     "name": "stdout",
     "output_type": "stream",
     "text": [
      "Mean and Std: -0.009710487889229402,1.0352255844285752\n"
     ]
    }
   ],
   "source": [
    "#Load the data\n",
    "#data=np.loadtxt('./data.csv', delimiter=',')\n",
    "std=1\n",
    "x,y=make_regression(n_samples=100,n_features=2,noise=0.1,random_state=30)\n",
    "\n",
    "print(f\"Mean and Std: {np.mean(x)},{np.std(x)}\")"
   ]
  },
  {
   "cell_type": "code",
   "execution_count": 1,
   "id": "d6b4bfac-f162-4f17-96bd-e721efe404ac",
   "metadata": {},
   "outputs": [
    {
     "ename": "NameError",
     "evalue": "name 'x' is not defined",
     "output_type": "error",
     "traceback": [
      "\u001b[0;31m---------------------------------------------------------------------------\u001b[0m",
      "\u001b[0;31mNameError\u001b[0m                                 Traceback (most recent call last)",
      "Cell \u001b[0;32mIn[1], line 1\u001b[0m\n\u001b[0;32m----> 1\u001b[0m \u001b[38;5;28mprint\u001b[39m(\u001b[38;5;124mf\u001b[39m\u001b[38;5;124m\"\u001b[39m\u001b[38;5;124mthe shape of the inputs x is: \u001b[39m\u001b[38;5;132;01m{\u001b[39;00mx\u001b[38;5;241m.\u001b[39mshape\u001b[38;5;132;01m}\u001b[39;00m\u001b[38;5;124m\"\u001b[39m)\n\u001b[1;32m      2\u001b[0m \u001b[38;5;28mprint\u001b[39m(\u001b[38;5;124mf\u001b[39m\u001b[38;5;124m\"\u001b[39m\u001b[38;5;124mthe shape of the targets y is: \u001b[39m\u001b[38;5;132;01m{\u001b[39;00my\u001b[38;5;241m.\u001b[39mshape\u001b[38;5;132;01m}\u001b[39;00m\u001b[38;5;124m\"\u001b[39m)\n\u001b[1;32m      4\u001b[0m \u001b[38;5;66;03m# y = np.expand_dims(y, axis=1)\u001b[39;00m\n",
      "\u001b[0;31mNameError\u001b[0m: name 'x' is not defined"
     ]
    }
   ],
   "source": [
    "print(f\"the shape of the inputs x is: {x.shape}\")\n",
    "print(f\"the shape of the targets y is: {y.shape}\")\n",
    "\n",
    "# y = np.expand_dims(y, axis=1)\n",
    "\n",
    "print(y[0:10])\n",
    "print(x[0:10,:])"
   ]
  },
  {
   "cell_type": "code",
   "execution_count": 111,
   "id": "fd242593-1a9e-4ff7-84bc-191e8842f2c9",
   "metadata": {},
   "outputs": [
    {
     "name": "stdout",
     "output_type": "stream",
     "text": [
      "the shape of the training set (input) is: (60, 2)\n",
      "the shape of the training set (target) is: (60,)\n",
      "\n",
      "the shape of the cross validation set (input) is: (20, 2)\n",
      "the shape of the cross validation set (target) is: (20,)\n",
      "\n",
      "the shape of the test set (input) is: (20, 2)\n",
      "the shape of the test set (target) is: (20,)\n"
     ]
    }
   ],
   "source": [
    "# get 60% of dataset as training set\n",
    "x_train,x_,y_train,y_=train_test_split(x,y,test_size=0.40,random_state=1)\n",
    "\n",
    "#furthur split the x_ to two sets\n",
    "x_cv,x_test,y_cv,y_test=train_test_split(x_,y_,test_size=0.5,random_state=1)\n",
    "\n",
    "print(f\"the shape of the training set (input) is: {x_train.shape}\")\n",
    "print(f\"the shape of the training set (target) is: {y_train.shape}\\n\")\n",
    "print(f\"the shape of the cross validation set (input) is: {x_cv.shape}\")\n",
    "print(f\"the shape of the cross validation set (target) is: {y_cv.shape}\\n\")\n",
    "print(f\"the shape of the test set (input) is: {x_test.shape}\")\n",
    "print(f\"the shape of the test set (target) is: {y_test.shape}\")"
   ]
  },
  {
   "cell_type": "markdown",
   "id": "d8391f9b-114e-45f3-a66f-b66e15d13d4f",
   "metadata": {},
   "source": [
    "Scaling the Data\n",
    "-"
   ]
  },
  {
   "cell_type": "code",
   "execution_count": 112,
   "id": "73049999-6b55-45e9-9b68-8e24526a131d",
   "metadata": {},
   "outputs": [
    {
     "name": "stdout",
     "output_type": "stream",
     "text": [
      "Mean of the training set: [-0.07 -0.  ]\n",
      "Standard Deviation: [0.99 0.97]\n"
     ]
    }
   ],
   "source": [
    "scaler_linear=StandardScaler()\n",
    "X_train_scaled=scaler_linear.fit_transform(x_train)\n",
    "\n",
    "print(f\"Mean of the training set: {scaler_linear.mean_.squeeze()}\")\n",
    "print(f\"Standard Deviation: {scaler_linear.scale_.squeeze()}\")"
   ]
  },
  {
   "cell_type": "markdown",
   "id": "81c7929b-83f5-47ae-9398-39791c6247d3",
   "metadata": {},
   "source": [
    "Fit the model using LinearRegression\n",
    "-"
   ]
  },
  {
   "cell_type": "code",
   "execution_count": 113,
   "id": "9e611c35-1cea-4223-b47f-08240e42c18d",
   "metadata": {},
   "outputs": [
    {
     "data": {
      "text/html": [
       "<style>#sk-container-id-3 {\n",
       "  /* Definition of color scheme common for light and dark mode */\n",
       "  --sklearn-color-text: black;\n",
       "  --sklearn-color-line: gray;\n",
       "  /* Definition of color scheme for unfitted estimators */\n",
       "  --sklearn-color-unfitted-level-0: #fff5e6;\n",
       "  --sklearn-color-unfitted-level-1: #f6e4d2;\n",
       "  --sklearn-color-unfitted-level-2: #ffe0b3;\n",
       "  --sklearn-color-unfitted-level-3: chocolate;\n",
       "  /* Definition of color scheme for fitted estimators */\n",
       "  --sklearn-color-fitted-level-0: #f0f8ff;\n",
       "  --sklearn-color-fitted-level-1: #d4ebff;\n",
       "  --sklearn-color-fitted-level-2: #b3dbfd;\n",
       "  --sklearn-color-fitted-level-3: cornflowerblue;\n",
       "\n",
       "  /* Specific color for light theme */\n",
       "  --sklearn-color-text-on-default-background: var(--sg-text-color, var(--theme-code-foreground, var(--jp-content-font-color1, black)));\n",
       "  --sklearn-color-background: var(--sg-background-color, var(--theme-background, var(--jp-layout-color0, white)));\n",
       "  --sklearn-color-border-box: var(--sg-text-color, var(--theme-code-foreground, var(--jp-content-font-color1, black)));\n",
       "  --sklearn-color-icon: #696969;\n",
       "\n",
       "  @media (prefers-color-scheme: dark) {\n",
       "    /* Redefinition of color scheme for dark theme */\n",
       "    --sklearn-color-text-on-default-background: var(--sg-text-color, var(--theme-code-foreground, var(--jp-content-font-color1, white)));\n",
       "    --sklearn-color-background: var(--sg-background-color, var(--theme-background, var(--jp-layout-color0, #111)));\n",
       "    --sklearn-color-border-box: var(--sg-text-color, var(--theme-code-foreground, var(--jp-content-font-color1, white)));\n",
       "    --sklearn-color-icon: #878787;\n",
       "  }\n",
       "}\n",
       "\n",
       "#sk-container-id-3 {\n",
       "  color: var(--sklearn-color-text);\n",
       "}\n",
       "\n",
       "#sk-container-id-3 pre {\n",
       "  padding: 0;\n",
       "}\n",
       "\n",
       "#sk-container-id-3 input.sk-hidden--visually {\n",
       "  border: 0;\n",
       "  clip: rect(1px 1px 1px 1px);\n",
       "  clip: rect(1px, 1px, 1px, 1px);\n",
       "  height: 1px;\n",
       "  margin: -1px;\n",
       "  overflow: hidden;\n",
       "  padding: 0;\n",
       "  position: absolute;\n",
       "  width: 1px;\n",
       "}\n",
       "\n",
       "#sk-container-id-3 div.sk-dashed-wrapped {\n",
       "  border: 1px dashed var(--sklearn-color-line);\n",
       "  margin: 0 0.4em 0.5em 0.4em;\n",
       "  box-sizing: border-box;\n",
       "  padding-bottom: 0.4em;\n",
       "  background-color: var(--sklearn-color-background);\n",
       "}\n",
       "\n",
       "#sk-container-id-3 div.sk-container {\n",
       "  /* jupyter's `normalize.less` sets `[hidden] { display: none; }`\n",
       "     but bootstrap.min.css set `[hidden] { display: none !important; }`\n",
       "     so we also need the `!important` here to be able to override the\n",
       "     default hidden behavior on the sphinx rendered scikit-learn.org.\n",
       "     See: https://github.com/scikit-learn/scikit-learn/issues/21755 */\n",
       "  display: inline-block !important;\n",
       "  position: relative;\n",
       "}\n",
       "\n",
       "#sk-container-id-3 div.sk-text-repr-fallback {\n",
       "  display: none;\n",
       "}\n",
       "\n",
       "div.sk-parallel-item,\n",
       "div.sk-serial,\n",
       "div.sk-item {\n",
       "  /* draw centered vertical line to link estimators */\n",
       "  background-image: linear-gradient(var(--sklearn-color-text-on-default-background), var(--sklearn-color-text-on-default-background));\n",
       "  background-size: 2px 100%;\n",
       "  background-repeat: no-repeat;\n",
       "  background-position: center center;\n",
       "}\n",
       "\n",
       "/* Parallel-specific style estimator block */\n",
       "\n",
       "#sk-container-id-3 div.sk-parallel-item::after {\n",
       "  content: \"\";\n",
       "  width: 100%;\n",
       "  border-bottom: 2px solid var(--sklearn-color-text-on-default-background);\n",
       "  flex-grow: 1;\n",
       "}\n",
       "\n",
       "#sk-container-id-3 div.sk-parallel {\n",
       "  display: flex;\n",
       "  align-items: stretch;\n",
       "  justify-content: center;\n",
       "  background-color: var(--sklearn-color-background);\n",
       "  position: relative;\n",
       "}\n",
       "\n",
       "#sk-container-id-3 div.sk-parallel-item {\n",
       "  display: flex;\n",
       "  flex-direction: column;\n",
       "}\n",
       "\n",
       "#sk-container-id-3 div.sk-parallel-item:first-child::after {\n",
       "  align-self: flex-end;\n",
       "  width: 50%;\n",
       "}\n",
       "\n",
       "#sk-container-id-3 div.sk-parallel-item:last-child::after {\n",
       "  align-self: flex-start;\n",
       "  width: 50%;\n",
       "}\n",
       "\n",
       "#sk-container-id-3 div.sk-parallel-item:only-child::after {\n",
       "  width: 0;\n",
       "}\n",
       "\n",
       "/* Serial-specific style estimator block */\n",
       "\n",
       "#sk-container-id-3 div.sk-serial {\n",
       "  display: flex;\n",
       "  flex-direction: column;\n",
       "  align-items: center;\n",
       "  background-color: var(--sklearn-color-background);\n",
       "  padding-right: 1em;\n",
       "  padding-left: 1em;\n",
       "}\n",
       "\n",
       "\n",
       "/* Toggleable style: style used for estimator/Pipeline/ColumnTransformer box that is\n",
       "clickable and can be expanded/collapsed.\n",
       "- Pipeline and ColumnTransformer use this feature and define the default style\n",
       "- Estimators will overwrite some part of the style using the `sk-estimator` class\n",
       "*/\n",
       "\n",
       "/* Pipeline and ColumnTransformer style (default) */\n",
       "\n",
       "#sk-container-id-3 div.sk-toggleable {\n",
       "  /* Default theme specific background. It is overwritten whether we have a\n",
       "  specific estimator or a Pipeline/ColumnTransformer */\n",
       "  background-color: var(--sklearn-color-background);\n",
       "}\n",
       "\n",
       "/* Toggleable label */\n",
       "#sk-container-id-3 label.sk-toggleable__label {\n",
       "  cursor: pointer;\n",
       "  display: block;\n",
       "  width: 100%;\n",
       "  margin-bottom: 0;\n",
       "  padding: 0.5em;\n",
       "  box-sizing: border-box;\n",
       "  text-align: center;\n",
       "}\n",
       "\n",
       "#sk-container-id-3 label.sk-toggleable__label-arrow:before {\n",
       "  /* Arrow on the left of the label */\n",
       "  content: \"▸\";\n",
       "  float: left;\n",
       "  margin-right: 0.25em;\n",
       "  color: var(--sklearn-color-icon);\n",
       "}\n",
       "\n",
       "#sk-container-id-3 label.sk-toggleable__label-arrow:hover:before {\n",
       "  color: var(--sklearn-color-text);\n",
       "}\n",
       "\n",
       "/* Toggleable content - dropdown */\n",
       "\n",
       "#sk-container-id-3 div.sk-toggleable__content {\n",
       "  max-height: 0;\n",
       "  max-width: 0;\n",
       "  overflow: hidden;\n",
       "  text-align: left;\n",
       "  /* unfitted */\n",
       "  background-color: var(--sklearn-color-unfitted-level-0);\n",
       "}\n",
       "\n",
       "#sk-container-id-3 div.sk-toggleable__content.fitted {\n",
       "  /* fitted */\n",
       "  background-color: var(--sklearn-color-fitted-level-0);\n",
       "}\n",
       "\n",
       "#sk-container-id-3 div.sk-toggleable__content pre {\n",
       "  margin: 0.2em;\n",
       "  border-radius: 0.25em;\n",
       "  color: var(--sklearn-color-text);\n",
       "  /* unfitted */\n",
       "  background-color: var(--sklearn-color-unfitted-level-0);\n",
       "}\n",
       "\n",
       "#sk-container-id-3 div.sk-toggleable__content.fitted pre {\n",
       "  /* unfitted */\n",
       "  background-color: var(--sklearn-color-fitted-level-0);\n",
       "}\n",
       "\n",
       "#sk-container-id-3 input.sk-toggleable__control:checked~div.sk-toggleable__content {\n",
       "  /* Expand drop-down */\n",
       "  max-height: 200px;\n",
       "  max-width: 100%;\n",
       "  overflow: auto;\n",
       "}\n",
       "\n",
       "#sk-container-id-3 input.sk-toggleable__control:checked~label.sk-toggleable__label-arrow:before {\n",
       "  content: \"▾\";\n",
       "}\n",
       "\n",
       "/* Pipeline/ColumnTransformer-specific style */\n",
       "\n",
       "#sk-container-id-3 div.sk-label input.sk-toggleable__control:checked~label.sk-toggleable__label {\n",
       "  color: var(--sklearn-color-text);\n",
       "  background-color: var(--sklearn-color-unfitted-level-2);\n",
       "}\n",
       "\n",
       "#sk-container-id-3 div.sk-label.fitted input.sk-toggleable__control:checked~label.sk-toggleable__label {\n",
       "  background-color: var(--sklearn-color-fitted-level-2);\n",
       "}\n",
       "\n",
       "/* Estimator-specific style */\n",
       "\n",
       "/* Colorize estimator box */\n",
       "#sk-container-id-3 div.sk-estimator input.sk-toggleable__control:checked~label.sk-toggleable__label {\n",
       "  /* unfitted */\n",
       "  background-color: var(--sklearn-color-unfitted-level-2);\n",
       "}\n",
       "\n",
       "#sk-container-id-3 div.sk-estimator.fitted input.sk-toggleable__control:checked~label.sk-toggleable__label {\n",
       "  /* fitted */\n",
       "  background-color: var(--sklearn-color-fitted-level-2);\n",
       "}\n",
       "\n",
       "#sk-container-id-3 div.sk-label label.sk-toggleable__label,\n",
       "#sk-container-id-3 div.sk-label label {\n",
       "  /* The background is the default theme color */\n",
       "  color: var(--sklearn-color-text-on-default-background);\n",
       "}\n",
       "\n",
       "/* On hover, darken the color of the background */\n",
       "#sk-container-id-3 div.sk-label:hover label.sk-toggleable__label {\n",
       "  color: var(--sklearn-color-text);\n",
       "  background-color: var(--sklearn-color-unfitted-level-2);\n",
       "}\n",
       "\n",
       "/* Label box, darken color on hover, fitted */\n",
       "#sk-container-id-3 div.sk-label.fitted:hover label.sk-toggleable__label.fitted {\n",
       "  color: var(--sklearn-color-text);\n",
       "  background-color: var(--sklearn-color-fitted-level-2);\n",
       "}\n",
       "\n",
       "/* Estimator label */\n",
       "\n",
       "#sk-container-id-3 div.sk-label label {\n",
       "  font-family: monospace;\n",
       "  font-weight: bold;\n",
       "  display: inline-block;\n",
       "  line-height: 1.2em;\n",
       "}\n",
       "\n",
       "#sk-container-id-3 div.sk-label-container {\n",
       "  text-align: center;\n",
       "}\n",
       "\n",
       "/* Estimator-specific */\n",
       "#sk-container-id-3 div.sk-estimator {\n",
       "  font-family: monospace;\n",
       "  border: 1px dotted var(--sklearn-color-border-box);\n",
       "  border-radius: 0.25em;\n",
       "  box-sizing: border-box;\n",
       "  margin-bottom: 0.5em;\n",
       "  /* unfitted */\n",
       "  background-color: var(--sklearn-color-unfitted-level-0);\n",
       "}\n",
       "\n",
       "#sk-container-id-3 div.sk-estimator.fitted {\n",
       "  /* fitted */\n",
       "  background-color: var(--sklearn-color-fitted-level-0);\n",
       "}\n",
       "\n",
       "/* on hover */\n",
       "#sk-container-id-3 div.sk-estimator:hover {\n",
       "  /* unfitted */\n",
       "  background-color: var(--sklearn-color-unfitted-level-2);\n",
       "}\n",
       "\n",
       "#sk-container-id-3 div.sk-estimator.fitted:hover {\n",
       "  /* fitted */\n",
       "  background-color: var(--sklearn-color-fitted-level-2);\n",
       "}\n",
       "\n",
       "/* Specification for estimator info (e.g. \"i\" and \"?\") */\n",
       "\n",
       "/* Common style for \"i\" and \"?\" */\n",
       "\n",
       ".sk-estimator-doc-link,\n",
       "a:link.sk-estimator-doc-link,\n",
       "a:visited.sk-estimator-doc-link {\n",
       "  float: right;\n",
       "  font-size: smaller;\n",
       "  line-height: 1em;\n",
       "  font-family: monospace;\n",
       "  background-color: var(--sklearn-color-background);\n",
       "  border-radius: 1em;\n",
       "  height: 1em;\n",
       "  width: 1em;\n",
       "  text-decoration: none !important;\n",
       "  margin-left: 1ex;\n",
       "  /* unfitted */\n",
       "  border: var(--sklearn-color-unfitted-level-1) 1pt solid;\n",
       "  color: var(--sklearn-color-unfitted-level-1);\n",
       "}\n",
       "\n",
       ".sk-estimator-doc-link.fitted,\n",
       "a:link.sk-estimator-doc-link.fitted,\n",
       "a:visited.sk-estimator-doc-link.fitted {\n",
       "  /* fitted */\n",
       "  border: var(--sklearn-color-fitted-level-1) 1pt solid;\n",
       "  color: var(--sklearn-color-fitted-level-1);\n",
       "}\n",
       "\n",
       "/* On hover */\n",
       "div.sk-estimator:hover .sk-estimator-doc-link:hover,\n",
       ".sk-estimator-doc-link:hover,\n",
       "div.sk-label-container:hover .sk-estimator-doc-link:hover,\n",
       ".sk-estimator-doc-link:hover {\n",
       "  /* unfitted */\n",
       "  background-color: var(--sklearn-color-unfitted-level-3);\n",
       "  color: var(--sklearn-color-background);\n",
       "  text-decoration: none;\n",
       "}\n",
       "\n",
       "div.sk-estimator.fitted:hover .sk-estimator-doc-link.fitted:hover,\n",
       ".sk-estimator-doc-link.fitted:hover,\n",
       "div.sk-label-container:hover .sk-estimator-doc-link.fitted:hover,\n",
       ".sk-estimator-doc-link.fitted:hover {\n",
       "  /* fitted */\n",
       "  background-color: var(--sklearn-color-fitted-level-3);\n",
       "  color: var(--sklearn-color-background);\n",
       "  text-decoration: none;\n",
       "}\n",
       "\n",
       "/* Span, style for the box shown on hovering the info icon */\n",
       ".sk-estimator-doc-link span {\n",
       "  display: none;\n",
       "  z-index: 9999;\n",
       "  position: relative;\n",
       "  font-weight: normal;\n",
       "  right: .2ex;\n",
       "  padding: .5ex;\n",
       "  margin: .5ex;\n",
       "  width: min-content;\n",
       "  min-width: 20ex;\n",
       "  max-width: 50ex;\n",
       "  color: var(--sklearn-color-text);\n",
       "  box-shadow: 2pt 2pt 4pt #999;\n",
       "  /* unfitted */\n",
       "  background: var(--sklearn-color-unfitted-level-0);\n",
       "  border: .5pt solid var(--sklearn-color-unfitted-level-3);\n",
       "}\n",
       "\n",
       ".sk-estimator-doc-link.fitted span {\n",
       "  /* fitted */\n",
       "  background: var(--sklearn-color-fitted-level-0);\n",
       "  border: var(--sklearn-color-fitted-level-3);\n",
       "}\n",
       "\n",
       ".sk-estimator-doc-link:hover span {\n",
       "  display: block;\n",
       "}\n",
       "\n",
       "/* \"?\"-specific style due to the `<a>` HTML tag */\n",
       "\n",
       "#sk-container-id-3 a.estimator_doc_link {\n",
       "  float: right;\n",
       "  font-size: 1rem;\n",
       "  line-height: 1em;\n",
       "  font-family: monospace;\n",
       "  background-color: var(--sklearn-color-background);\n",
       "  border-radius: 1rem;\n",
       "  height: 1rem;\n",
       "  width: 1rem;\n",
       "  text-decoration: none;\n",
       "  /* unfitted */\n",
       "  color: var(--sklearn-color-unfitted-level-1);\n",
       "  border: var(--sklearn-color-unfitted-level-1) 1pt solid;\n",
       "}\n",
       "\n",
       "#sk-container-id-3 a.estimator_doc_link.fitted {\n",
       "  /* fitted */\n",
       "  border: var(--sklearn-color-fitted-level-1) 1pt solid;\n",
       "  color: var(--sklearn-color-fitted-level-1);\n",
       "}\n",
       "\n",
       "/* On hover */\n",
       "#sk-container-id-3 a.estimator_doc_link:hover {\n",
       "  /* unfitted */\n",
       "  background-color: var(--sklearn-color-unfitted-level-3);\n",
       "  color: var(--sklearn-color-background);\n",
       "  text-decoration: none;\n",
       "}\n",
       "\n",
       "#sk-container-id-3 a.estimator_doc_link.fitted:hover {\n",
       "  /* fitted */\n",
       "  background-color: var(--sklearn-color-fitted-level-3);\n",
       "}\n",
       "</style><div id=\"sk-container-id-3\" class=\"sk-top-container\"><div class=\"sk-text-repr-fallback\"><pre>LinearRegression()</pre><b>In a Jupyter environment, please rerun this cell to show the HTML representation or trust the notebook. <br />On GitHub, the HTML representation is unable to render, please try loading this page with nbviewer.org.</b></div><div class=\"sk-container\" hidden><div class=\"sk-item\"><div class=\"sk-estimator fitted sk-toggleable\"><input class=\"sk-toggleable__control sk-hidden--visually\" id=\"sk-estimator-id-3\" type=\"checkbox\" checked><label for=\"sk-estimator-id-3\" class=\"sk-toggleable__label fitted sk-toggleable__label-arrow fitted\">&nbsp;&nbsp;LinearRegression<a class=\"sk-estimator-doc-link fitted\" rel=\"noreferrer\" target=\"_blank\" href=\"https://scikit-learn.org/1.5/modules/generated/sklearn.linear_model.LinearRegression.html\">?<span>Documentation for LinearRegression</span></a><span class=\"sk-estimator-doc-link fitted\">i<span>Fitted</span></span></label><div class=\"sk-toggleable__content fitted\"><pre>LinearRegression()</pre></div> </div></div></div></div>"
      ],
      "text/plain": [
       "LinearRegression()"
      ]
     },
     "execution_count": 113,
     "metadata": {},
     "output_type": "execute_result"
    }
   ],
   "source": [
    "linear_model=LinearRegression()\n",
    "\n",
    "linear_model.fit(X_train_scaled,y_train)"
   ]
  },
  {
   "cell_type": "markdown",
   "id": "96a23118-74d4-43fa-a294-2e6ce6e48133",
   "metadata": {},
   "source": [
    "Evaluate the model using Mean Error Squared\n",
    "-"
   ]
  },
  {
   "cell_type": "code",
   "execution_count": 114,
   "id": "5aa3aa54-e62f-41cd-93dc-41b5d03dcd92",
   "metadata": {},
   "outputs": [
    {
     "name": "stdout",
     "output_type": "stream",
     "text": [
      "J_train : 0.0033623134360000026\n",
      "J_train (loop): 0.003362313436000003\n"
     ]
    }
   ],
   "source": [
    "yhat = linear_model.predict(X_train_scaled)\n",
    "\n",
    "print(f\"J_train : {mean_squared_error(y_train,yhat)/2}\")\n",
    "\n",
    "#or Loop implementation\n",
    "total_squared_error=0\n",
    "\n",
    "for i in range(len(yhat)):\n",
    "    squared_error_i = (yhat[i]-y_train[i])**2\n",
    "    total_squared_error += squared_error_i\n",
    "\n",
    "mse=total_squared_error/(2*len(yhat))\n",
    "\n",
    "print(f\"J_train (loop):\", mse.squeeze())\n"
   ]
  },
  {
   "cell_type": "markdown",
   "id": "508d4d99-48c2-427a-b626-0509fc157e20",
   "metadata": {},
   "source": [
    "What have we done so far...\n",
    "-\n",
    "- generated data from sklearn.datasets using make_regression\n",
    "- divided that data into x_train,x_cv, x_test\n",
    "- scaled the x_train to x_scaled using StandardScaler (mean and standard Deviation)\n",
    "- Used linearRegression from sklearn.linear_model to fit w,b "
   ]
  },
  {
   "cell_type": "markdown",
   "id": "3cf58b33-ed06-4810-b6fb-c113e1409620",
   "metadata": {},
   "source": [
    "Note that\n",
    "- scaler_linear have the information about the mean and the standard\n",
    "- linear_model have the information about w and b parameters."
   ]
  },
  {
   "cell_type": "markdown",
   "id": "ad424b38-51d9-4618-b899-bfd567843094",
   "metadata": {},
   "source": [
    "Next\n",
    "- we will scale the x_cv using scaler_linear (Mean, std of X_train)\n",
    "- find the J_cv using linear_model (W,b for X_train)"
   ]
  },
  {
   "cell_type": "markdown",
   "id": "97513a35-6226-4b5b-b307-4fd856f68ea9",
   "metadata": {},
   "source": [
    "This is important to use scaling of x_train because:\n",
    "- Say training set X_train[i]=500, which scales to 0.5, now gives yhat=300 given w,b\n",
    "- Using new scaling feature, X_cv[j]=500, would scale to 0.67, give yhat=439 given w,b"
   ]
  },
  {
   "cell_type": "code",
   "execution_count": 115,
   "id": "12ba866b-24d5-45b4-8306-d1bb05a5ad53",
   "metadata": {},
   "outputs": [
    {
     "name": "stdout",
     "output_type": "stream",
     "text": [
      "Mean used to scale the CV set: [-0.07 -0.  ]\n",
      "Standard deviation used to scale the CV set: [0.99 0.97]\n"
     ]
    }
   ],
   "source": [
    "X_cv_scaled=scaler_linear.transform(x_cv)\n",
    "\n",
    "print(f\"Mean used to scale the CV set: {scaler_linear.mean_.squeeze()}\")\n",
    "print(f\"Standard deviation used to scale the CV set: {scaler_linear.scale_.squeeze()}\")"
   ]
  },
  {
   "cell_type": "code",
   "execution_count": 116,
   "id": "c4d238b1-4f3b-4aa8-b7a7-5833e9ed99c5",
   "metadata": {},
   "outputs": [
    {
     "name": "stdout",
     "output_type": "stream",
     "text": [
      "Cross validation J_cv: 0.0055143048301135285\n"
     ]
    }
   ],
   "source": [
    "yhat=linear_model.predict(X_cv_scaled)\n",
    "print(f\"Cross validation J_cv: {mean_squared_error(y_cv,yhat)/2}\")"
   ]
  },
  {
   "cell_type": "markdown",
   "id": "86380789-4c55-44c3-952a-c546eb9a6e03",
   "metadata": {},
   "source": [
    "Adding the polynomial feature\n",
    "--\n",
    "- using the PolynomialFeatures from sklearn.preprocessing we can add more features\n",
    "- New input feature of square of x\n",
    "- poly function wx+b to wx^2+wx+b (x_train to x_train_mapped)\n",
    "- scaler_poly scales x (x_trained_mapped to x_trained_mapped_scaled)\n",
    "- linearRegression fit w,w,b"
   ]
  },
  {
   "cell_type": "code",
   "execution_count": 117,
   "id": "b6b28e6d-7541-4a80-a933-ce41d564c6f9",
   "metadata": {},
   "outputs": [
    {
     "name": "stdout",
     "output_type": "stream",
     "text": [
      "[[-1.41e+00  2.18e+00  1.98e+00 -3.08e+00  4.77e+00]\n",
      " [-5.95e-01  9.91e-01  3.54e-01 -5.89e-01  9.81e-01]\n",
      " [ 3.04e-01 -1.01e-01  9.23e-02 -3.06e-02  1.01e-02]\n",
      " [ 1.39e+00 -2.92e-02  1.94e+00 -4.07e-02  8.52e-04]\n",
      " [ 3.68e-01 -6.23e-01  1.36e-01 -2.30e-01  3.88e-01]]\n"
     ]
    }
   ],
   "source": [
    "poly =PolynomialFeatures(degree=2, include_bias=False)   #include_bias is weird\n",
    "\n",
    "X_train_mapped=poly.fit_transform(x_train)\n",
    "print(X_train_mapped[:5])"
   ]
  },
  {
   "cell_type": "code",
   "execution_count": 118,
   "id": "afec81e3-905c-420d-8eaf-fa2dd28cd8a4",
   "metadata": {},
   "outputs": [
    {
     "name": "stdout",
     "output_type": "stream",
     "text": [
      "[[-1.35  2.25  0.79 -3.16  3.23]\n",
      " [-0.53  1.02 -0.5  -0.51  0.03]\n",
      " [ 0.38 -0.1  -0.71  0.09 -0.79]\n",
      " [ 1.48 -0.03  0.76  0.08 -0.8 ]\n",
      " [ 0.45 -0.64 -0.67 -0.13 -0.47]]\n"
     ]
    }
   ],
   "source": [
    "scaler_poly=StandardScaler()\n",
    "\n",
    "X_train_mapped_scaled=scaler_poly.fit_transform(X_train_mapped)\n",
    "print(X_train_mapped_scaled[:5])"
   ]
  },
  {
   "cell_type": "code",
   "execution_count": 119,
   "id": "d773ce28-3bea-44f2-a5da-790480cd2322",
   "metadata": {},
   "outputs": [
    {
     "name": "stdout",
     "output_type": "stream",
     "text": [
      "J_train: 0.003120857262946378\n"
     ]
    }
   ],
   "source": [
    "model=LinearRegression()\n",
    "model.fit(X_train_mapped_scaled, y_train)\n",
    "\n",
    "yhat=model.predict(X_train_mapped_scaled)\n",
    "print(f\"J_train: {mean_squared_error(y_train,yhat)/2}\")"
   ]
  },
  {
   "cell_type": "code",
   "execution_count": 120,
   "id": "ca62855b-1620-4e30-9bc7-cb5fc0153079",
   "metadata": {},
   "outputs": [
    {
     "name": "stdout",
     "output_type": "stream",
     "text": [
      "J_cv: 0.004469214706066492\n"
     ]
    }
   ],
   "source": [
    "X_cv_mapped=poly.transform(x_cv)\n",
    "X_cv_mapped_scaled=scaler_poly.transform(X_cv_mapped)\n",
    "yhat=model.predict(X_cv_mapped_scaled)\n",
    "print(f\"J_cv: {mean_squared_error(y_cv,yhat)/2}\")"
   ]
  },
  {
   "cell_type": "markdown",
   "id": "b499e3d3-1bc9-4d0d-9ae2-4d9e0111d9c4",
   "metadata": {},
   "source": [
    "To deal with multiple models\n",
    "-\n",
    "- we form a loop"
   ]
  },
  {
   "cell_type": "code",
   "execution_count": 128,
   "id": "d6f1bc71-f73b-4897-b74c-1c21c9e131e9",
   "metadata": {},
   "outputs": [
    {
     "name": "stdout",
     "output_type": "stream",
     "text": [
      "[0.0033623134360000026, 0.003120857262946378, 0.002846218026649064, 0.002615682498602813, 0.002006176914051502, 0.0017791152605461042, 0.001485543877885497, 0.001206876050006078, 0.0005650483382284687, 5.6305232217628546e-24]\n",
      "[0.0055143048301135285, 0.004469214706066492, 0.006943913345968439, 0.01185020931512169, 0.22831836390529378, 0.8831196052824939, 23.177173302664556, 6327.15550110891, 1060237.9054831932, 4148070197.6326194]\n"
     ]
    },
    {
     "data": {
      "image/png": "[encoded data removed]",
      "text/plain": [
       "<Figure size 600x600 with 1 Axes>"
      ]
     },
     "metadata": {},
     "output_type": "display_data"
    }
   ],
   "source": [
    "J_train=[]\n",
    "\n",
    "J_cv=[]\n",
    "models=[]\n",
    "polys=[]\n",
    "scalers = []\n",
    "\n",
    "for degree in range(1,11):\n",
    "    \n",
    "    \n",
    "    poly=PolynomialFeatures(degree, include_bias=False)\n",
    "    X_trained_mapped=poly.fit_transform(x_train)\n",
    "    polys.append(poly)\n",
    "\n",
    "    scaler_poly = StandardScaler()\n",
    "    X_trained_mapped_scaled=scaler_poly.fit_transform(X_trained_mapped)\n",
    "    scalers.append(scaler_poly)\n",
    "\n",
    "    model=LinearRegression()\n",
    "    model.fit(X_trained_mapped_scaled,y_train)\n",
    "    models.append(model)\n",
    "\n",
    "    yhat=model.predict(X_trained_mapped_scaled)\n",
    "    train_mse=mean_squared_error(y_train,yhat)/2\n",
    "    J_train.append(train_mse)\n",
    "\n",
    "    X_cv_mapped=poly.transform(x_cv)\n",
    "    X_cv_mapped_scaled=scaler_poly.transform(X_cv_mapped)\n",
    "    yhat=model.predict(X_cv_mapped_scaled)\n",
    "\n",
    "    cv_mse=mean_squared_error(y_cv,yhat)/2\n",
    "    J_cv.append(cv_mse)\n",
    "print(J_train)\n",
    "print(J_cv)\n",
    "\n",
    "fig, ax=plt.subplots(figsize=(6,6))\n",
    "ax.plot(range(1,10),J_train[:9], marker='o',color='red')\n",
    "ax.plot(range(1,10), J_cv[:9], marker='o', color='blue')\n",
    "plt.yscale(\"log\")"
   ]
  },
  {
   "cell_type": "code",
   "execution_count": 130,
   "id": "205660fb-c59b-4bd3-949a-dbb94013518c",
   "metadata": {},
   "outputs": [
    {
     "name": "stdout",
     "output_type": "stream",
     "text": [
      "lowest J_cv degree:2\n"
     ]
    }
   ],
   "source": [
    "degree = np.argmin(J_cv)+1\n",
    "print(f\"lowest J_cv degree:{degree}\")"
   ]
  },
  {
   "cell_type": "code",
   "execution_count": 132,
   "id": "648e911e-2b98-4029-adc9-93a06d42679c",
   "metadata": {},
   "outputs": [
    {
     "name": "stdout",
     "output_type": "stream",
     "text": [
      "J_train: 0.003120857262946378\n",
      "J_cv: 0.004469214706066492\n",
      "J_test: 0.0056270124419869555\n"
     ]
    }
   ],
   "source": [
    "X_test_mapped= polys[degree-1].transform(x_test)\n",
    "X_test_mapped_scaled=scalers[degree-1].transform(X_test_mapped)\n",
    "\n",
    "yhat=models[degree-1].predict(X_test_mapped_scaled)\n",
    "J_test=mean_squared_error(y_test,yhat)/2\n",
    "\n",
    "print(f\"J_train: {J_train[degree-1]}\")\n",
    "print(f\"J_cv: {J_cv[degree-1]}\")\n",
    "print(f\"J_test: {J_test}\")\n"
   ]
  },
  {
   "cell_type": "markdown",
   "id": "444b607a-9f72-43a2-8a5e-bfcfec005fbc",
   "metadata": {},
   "source": [
    "Well done\n",
    "-"
   ]
  }
 ],
 "metadata": {
  "kernelspec": {
   "display_name": "base",
   "language": "python",
   "name": "python3"
  },
  "language_info": {
   "codemirror_mode": {
    "name": "ipython",
    "version": 3
   },
   "file_extension": ".py",
   "mimetype": "text/x-python",
   "name": "python",
   "nbconvert_exporter": "python",
   "pygments_lexer": "ipython3",
   "version": "3.12.2"
  }
 },
 "nbformat": 4,
 "nbformat_minor": 5
}
